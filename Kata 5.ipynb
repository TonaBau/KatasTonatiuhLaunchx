{
 "cells": [
  {
   "cell_type": "markdown",
   "metadata": {},
   "source": [
    "## Operadores Matemáticos\n",
    "uso de operadores básicos"
   ]
  },
  {
   "cell_type": "code",
   "execution_count": 1,
   "metadata": {},
   "outputs": [],
   "source": [
    "Tierra=149597870\n",
    "Jupiter=778547200"
   ]
  },
  {
   "cell_type": "code",
   "execution_count": 7,
   "metadata": {},
   "outputs": [
    {
     "name": "stdout",
     "output_type": "stream",
     "text": [
      "😝 La distancia entre los dos planetas es: 628949330 km\n",
      "😛 La distancia en millas es: 390810995.0 mi\n"
     ]
    }
   ],
   "source": [
    "DeP=abs(Jupiter-Tierra)\n",
    "DePM=DeP//1.609344\n",
    "print(\"😝 La distancia entre los dos planetas es: \"+ str(DeP)+\" km\")\n",
    "print(\"😛 La distancia en millas es: \"+str(DePM)+\" mi\")"
   ]
  },
  {
   "cell_type": "code",
   "execution_count": 18,
   "metadata": {},
   "outputs": [
    {
     "name": "stdout",
     "output_type": "stream",
     "text": [
      "1 km es la distancia entre los dos planetas\n",
      "0.621 Mi es la distancia entre los dos planetas\n"
     ]
    }
   ],
   "source": [
    "p1=int(input(\"Distancia del planeta 1 en km\"))\n",
    "p2=int(input(\"Distancia del planeta 2 en km\"))\n",
    "dt=abs(p2-p1)\n",
    "print(str(dt)+\" km es la distancia entre los dos planetas\")\n",
    "print(str(dt*0.621)+\" Mi es la distancia entre los dos planetas\")"
   ]
  },
  {
   "cell_type": "code",
   "execution_count": null,
   "metadata": {},
   "outputs": [],
   "source": []
  }
 ],
 "metadata": {
  "interpreter": {
   "hash": "9bee8665a2f736ee51814cc55ddf8769681e008d8300a9f6e296f02dd94d1e1e"
  },
  "kernelspec": {
   "display_name": "Python 3.10.2 64-bit (windows store)",
   "language": "python",
   "name": "python3"
  },
  "language_info": {
   "codemirror_mode": {
    "name": "ipython",
    "version": 3
   },
   "file_extension": ".py",
   "mimetype": "text/x-python",
   "name": "python",
   "nbconvert_exporter": "python",
   "pygments_lexer": "ipython3",
   "version": "3.10.2"
  },
  "orig_nbformat": 4
 },
 "nbformat": 4,
 "nbformat_minor": 2
}
