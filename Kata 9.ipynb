{
 "cells": [
  {
   "cell_type": "markdown",
   "metadata": {},
   "source": [
    "## Argumentos en Funciones"
   ]
  },
  {
   "cell_type": "code",
   "execution_count": 56,
   "metadata": {},
   "outputs": [
    {
     "name": "stdout",
     "output_type": "stream",
     "text": [
      " Reporte de combustible:\n",
      "    Promedio de combustible: 34.333333333333336 %\n",
      "    Tanque 1: 42 %\n",
      "    Tanque 2: 50 %\n",
      "    Tanque 3: 11 % \n",
      "    \n"
     ]
    }
   ],
   "source": [
    "def reporte(tanque1, tanque2, tanque3):\n",
    "    promediot=(tanque1 + tanque2 + tanque3)/3\n",
    "    return f\"\"\" Reporte de combustible:\n",
    "    Promedio de combustible: {promediot} %\n",
    "    Tanque 1: {tanque1} %\n",
    "    Tanque 2: {tanque2} %\n",
    "    Tanque 3: {tanque3} % \n",
    "    \"\"\"\n",
    "print(reporte(42,50,11))"
   ]
  },
  {
   "cell_type": "code",
   "execution_count": 57,
   "metadata": {},
   "outputs": [
    {
     "data": {
      "text/plain": [
       "9.666666666666666"
      ]
     },
     "execution_count": 57,
     "metadata": {},
     "output_type": "execute_result"
    }
   ],
   "source": [
    "def promedio(valores):\n",
    "    total = sum(valores)\n",
    "    nitem= len(valores)\n",
    "    return total / nitem\n",
    "promedio([10, 10, 9]) "
   ]
  },
  {
   "cell_type": "code",
   "execution_count": 58,
   "metadata": {},
   "outputs": [
    {
     "name": "stdout",
     "output_type": "stream",
     "text": [
      "Reporte de Combustible:\n",
      "    Total Average: 9.666666666666666 %\n",
      "    Tanque 1: 10 %\n",
      "    Tanque 2: 10 %\n",
      "    Tanque 3: 9 % \n",
      "    \n"
     ]
    }
   ],
   "source": [
    "def reporte(tanque1, tanque2, tanque3):\n",
    "    return f\"\"\"Reporte de Combustible:\n",
    "    Total Average: {promedio([tanque1, tanque2, tanque3])} %\n",
    "    Tanque 1: {tanque1} %\n",
    "    Tanque 2: {tanque2} %\n",
    "    Tanque 3: {tanque3} % \n",
    "    \"\"\"\n",
    "print(reporte(10, 10, 9))"
   ]
  },
  {
   "cell_type": "markdown",
   "metadata": {},
   "source": [
    "## Argumentos de Palabras Clave en Funciones"
   ]
  },
  {
   "cell_type": "code",
   "execution_count": 59,
   "metadata": {},
   "outputs": [
    {
     "name": "stdout",
     "output_type": "stream",
     "text": [
      "\n",
      "    Mision a Luna\n",
      "    Tiempo total del viaje: 65 minutos\n",
      "    Galones de Combustible: 500000 galones\n",
      "    \n"
     ]
    }
   ],
   "source": [
    "def reporte_de_mision(pre_lati, tvuelo, destino, tanque_ext, tanque_pri):\n",
    "    return f\"\"\"\n",
    "    Mision a {destino}\n",
    "    Tiempo total del viaje: {pre_lati + tvuelo} minutos\n",
    "    Galones de Combustible: {tanque_ext + tanque_pri} galones\n",
    "    \"\"\"\n",
    "\n",
    "print(reporte_de_mision(14, 51, \"Luna\", 200000, 300000))"
   ]
  },
  {
   "cell_type": "code",
   "execution_count": 60,
   "metadata": {},
   "outputs": [
    {
     "name": "stdout",
     "output_type": "stream",
     "text": [
      "\n",
      "    Mision a Luna\n",
      "    Tiempo de Viaje total: 76 minutos\n",
      "    Total de Combustible: 500000\n",
      "    \n"
     ]
    }
   ],
   "source": [
    "def reporte_de_mision(destino, *minutos, **reserva_comb):\n",
    "    return f\"\"\"\n",
    "    Mision a {destino}\n",
    "    Tiempo de Viaje total: {sum(minutos)} minutos\n",
    "    Total de Combustible: {sum(reserva_comb.values())}\n",
    "    \"\"\"\n",
    "\n",
    "print(reporte_de_mision(\"Luna\", 10, 15, 51, tanque_pri=300000, tanque_ext=200000))"
   ]
  },
  {
   "cell_type": "code",
   "execution_count": 62,
   "metadata": {},
   "outputs": [
    {
     "name": "stdout",
     "output_type": "stream",
     "text": [
      "\n",
      "    Mision a Luna\n",
      "    Tiempo total de Viaje: 85 minutos\n",
      "    Combustible total: 505000\n",
      "    tanque_1 tanque --> quedan 300000 galones \n",
      "tanque_2 tanque --> quedan 200000 galones \n",
      "tanque_3 tanque --> quedan 5000 galones \n",
      "\n"
     ]
    }
   ],
   "source": [
    "def reporte_de_mision(destino, *minutos, **reserva_comb):\n",
    "    reporte_prin = f\"\"\"\n",
    "    Mision a {destino}\n",
    "    Tiempo total de Viaje: {sum(minutos)} minutos\n",
    "    Combustible total: {sum(reserva_comb.values())}\n",
    "    \"\"\"\n",
    "    for tanque, galones in reserva_comb.items():\n",
    "        reporte_prin += f\"{tanque} tanque --> quedan {galones} galones \\n\"\n",
    "    return reporte_prin\n",
    "\n",
    "print(reporte_de_mision(\"Luna\", 8, 11, 55,11, tanque_1=300000, tanque_2=200000, tanque_3=5000))"
   ]
  }
 ],
 "metadata": {
  "interpreter": {
   "hash": "9bee8665a2f736ee51814cc55ddf8769681e008d8300a9f6e296f02dd94d1e1e"
  },
  "kernelspec": {
   "display_name": "Python 3.10.2 64-bit (windows store)",
   "language": "python",
   "name": "python3"
  },
  "language_info": {
   "codemirror_mode": {
    "name": "ipython",
    "version": 3
   },
   "file_extension": ".py",
   "mimetype": "text/x-python",
   "name": "python",
   "nbconvert_exporter": "python",
   "pygments_lexer": "ipython3",
   "version": "3.10.2"
  },
  "orig_nbformat": 4
 },
 "nbformat": 4,
 "nbformat_minor": 2
}
