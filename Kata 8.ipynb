{
 "cells": [
  {
   "cell_type": "markdown",
   "metadata": {},
   "source": [
    "## Diccionarios"
   ]
  },
  {
   "cell_type": "code",
   "execution_count": 2,
   "metadata": {},
   "outputs": [
    {
     "name": "stdout",
     "output_type": "stream",
     "text": [
      "Marte tiene 2 lunas\n"
     ]
    }
   ],
   "source": [
    "planeta={\n",
    "    'nombre':'Marte',\n",
    "    'lunas':2\n",
    "}\n",
    "print(f\"{planeta.get('nombre')} tiene {planeta.get('lunas')} lunas\")"
   ]
  },
  {
   "cell_type": "code",
   "execution_count": 3,
   "metadata": {},
   "outputs": [
    {
     "name": "stdout",
     "output_type": "stream",
     "text": [
      "Marte tiene una circunferencia polar de: 6792 km\n"
     ]
    }
   ],
   "source": [
    "planeta['circunferencia (km)'] = {\n",
    "    'polar': 6752,\n",
    "    'ecuatorial': 6792\n",
    "}\n",
    "print(f\"{planeta.get('nombre')} tiene una circunferencia polar de: {planeta['circunferencia (km)']['ecuatorial']} km\")"
   ]
  },
  {
   "cell_type": "markdown",
   "metadata": {},
   "source": [
    "## Programación Dinamica"
   ]
  },
  {
   "cell_type": "code",
   "execution_count": 35,
   "metadata": {},
   "outputs": [
    {
     "name": "stdout",
     "output_type": "stream",
     "text": [
      "12\n"
     ]
    }
   ],
   "source": [
    "lunaspla = {\n",
    "    'mercurio': 0,\n",
    "    'venus': 0,\n",
    "    'tierra': 1,\n",
    "    'marte': 2,\n",
    "    'jupiter': 79,\n",
    "    'saturno': 82,\n",
    "    'urano': 27,\n",
    "    'neptuno': 14,\n",
    "    'pluton': 5,\n",
    "    'haumea': 2,\n",
    "    'makemake': 1,\n",
    "    'eris': 1\n",
    "}\n",
    "\n",
    "lunas=lunaspla.values()\n",
    "planetas=len(lunaspla)\n",
    "print(planetas)"
   ]
  },
  {
   "cell_type": "code",
   "execution_count": 36,
   "metadata": {},
   "outputs": [
    {
     "name": "stdout",
     "output_type": "stream",
     "text": [
      "hay un total de 214 lunas en el sistema solar\n",
      "En el sistema solar un  promedio de 17.833333333333332 lunas por cada planeta \n"
     ]
    }
   ],
   "source": [
    "tot_lun=0\n",
    "for luna in lunas:\n",
    "    tot_lun=tot_lun+luna\n",
    "print('hay un total de '+ str(tot_lun) + ' lunas en el sistema solar')\n",
    "promedio=tot_lun/int(planetas)\n",
    "print('En el sistema solar hay un promedio de ' + str(promedio) + ' lunas por cada planeta ')\n"
   ]
  }
 ],
 "metadata": {
  "interpreter": {
   "hash": "9bee8665a2f736ee51814cc55ddf8769681e008d8300a9f6e296f02dd94d1e1e"
  },
  "kernelspec": {
   "display_name": "Python 3.10.2 64-bit (windows store)",
   "language": "python",
   "name": "python3"
  },
  "language_info": {
   "codemirror_mode": {
    "name": "ipython",
    "version": 3
   },
   "file_extension": ".py",
   "mimetype": "text/x-python",
   "name": "python",
   "nbconvert_exporter": "python",
   "pygments_lexer": "ipython3",
   "version": "3.10.2"
  },
  "orig_nbformat": 4
 },
 "nbformat": 4,
 "nbformat_minor": 2
}
