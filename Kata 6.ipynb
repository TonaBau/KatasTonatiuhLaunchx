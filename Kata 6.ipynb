{
 "cells": [
  {
   "cell_type": "markdown",
   "metadata": {},
   "source": [
    "## Listas"
   ]
  },
  {
   "cell_type": "code",
   "execution_count": 7,
   "metadata": {},
   "outputs": [
    {
     "name": "stdout",
     "output_type": "stream",
     "text": [
      "['mercurio', 'venus', 'tierra', 'marte', 'jupiter', 'saturno', 'urano', 'neptuno']\n"
     ]
    }
   ],
   "source": [
    "planetas=['mercurio','venus','tierra','marte','jupiter','saturno','urano','neptuno']\n",
    "print(planetas)"
   ]
  },
  {
   "cell_type": "code",
   "execution_count": 8,
   "metadata": {},
   "outputs": [
    {
     "name": "stdout",
     "output_type": "stream",
     "text": [
      "9\n",
      "pluton\n"
     ]
    }
   ],
   "source": [
    "planetas.append('pluton')\n",
    "cantp=len(planetas)\n",
    "print(cantp)\n",
    "print(planetas[8])"
   ]
  },
  {
   "cell_type": "code",
   "execution_count": 12,
   "metadata": {},
   "outputs": [
    {
     "name": "stdout",
     "output_type": "stream",
     "text": [
      "2\n"
     ]
    }
   ],
   "source": [
    "platesol=input('dame el nombre del planeta en minusculas')\n",
    "indicepaneta=planetas.index(platesol)\n",
    "print(indicepaneta)"
   ]
  },
  {
   "cell_type": "code",
   "execution_count": 15,
   "metadata": {},
   "outputs": [
    {
     "name": "stdout",
     "output_type": "stream",
     "text": [
      "los planetas mas cercans al sol que tierra son: \n",
      "['mercurio', 'venus']\n"
     ]
    }
   ],
   "source": [
    "print(\"los planetas mas cercanos al sol que \" + platesol + \" son: \")\n",
    "print(planetas[0:indicepaneta])"
   ]
  },
  {
   "cell_type": "code",
   "execution_count": 16,
   "metadata": {},
   "outputs": [
    {
     "name": "stdout",
     "output_type": "stream",
     "text": [
      "los planetas mas lejanos al sol que tierra son: \n",
      "['marte', 'jupiter', 'saturno', 'urano', 'neptuno', 'pluton']\n"
     ]
    }
   ],
   "source": [
    "print(\"los planetas mas lejanos al sol que \" + platesol + \" son: \")\n",
    "print(planetas[indicepaneta+1:])"
   ]
  }
 ],
 "metadata": {
  "interpreter": {
   "hash": "9bee8665a2f736ee51814cc55ddf8769681e008d8300a9f6e296f02dd94d1e1e"
  },
  "kernelspec": {
   "display_name": "Python 3.10.2 64-bit (windows store)",
   "language": "python",
   "name": "python3"
  },
  "language_info": {
   "codemirror_mode": {
    "name": "ipython",
    "version": 3
   },
   "file_extension": ".py",
   "mimetype": "text/x-python",
   "name": "python",
   "nbconvert_exporter": "python",
   "pygments_lexer": "ipython3",
   "version": "3.10.2"
  },
  "orig_nbformat": 4
 },
 "nbformat": 4,
 "nbformat_minor": 2
}
