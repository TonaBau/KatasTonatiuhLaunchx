{
 "cells": [
  {
   "cell_type": "code",
   "execution_count": 12,
   "metadata": {},
   "outputs": [
    {
     "name": "stdout",
     "output_type": "stream",
     "text": [
      "¡Advertencia maxima velocidad de asteroide permitida, colision inminente!\n"
     ]
    }
   ],
   "source": [
    "ast=49\n",
    "if ast>25:\n",
    "    print(\"¡Advertencia maxima velocidad de asteroide permitida, colision inminente!\")\n",
    "else:\n",
    "    print(\"Velocidad maxima aceptable, sin peligro\")"
   ]
  },
  {
   "cell_type": "code",
   "execution_count": 18,
   "metadata": {},
   "outputs": [
    {
     "name": "stdout",
     "output_type": "stream",
     "text": [
      "Velocidad maxima aceptable, sin peligro\n"
     ]
    }
   ],
   "source": [
    "ast=19\n",
    "if ast>20:\n",
    "    print(\"¡Advertencia maxima velocidad de asteroide permitida, colision inminente!\")\n",
    "elif ast==20:\n",
    "    print(\"Observa la luz en el cielo\")\n",
    "else:\n",
    "    print(\"Velocidad maxima aceptable, sin peligro\")"
   ]
  },
  {
   "cell_type": "code",
   "execution_count": 7,
   "metadata": {},
   "outputs": [
    {
     "name": "stdout",
     "output_type": "stream",
     "text": [
      "Observa la luz brillante del cielo\n"
     ]
    }
   ],
   "source": [
    "ast=25\n",
    "astd=40\n",
    "if ast>25 and astd>25:\n",
    "    print(\"¡Advertencia, impacto catastrofico\") \n",
    "elif ast>=20:\n",
    "    print(\"Observa la luz brillante del cielo\")\n",
    "elif astd<25:\n",
    "    print(\"Nada que ver 🤨\")\n",
    "else:\n",
    "    print(\"Nada que ver 😐\")"
   ]
  }
 ],
 "metadata": {
  "interpreter": {
   "hash": "179465e3f4436299d66142f3b360d60bc1fa64890d2121503b36fbad8957061c"
  },
  "kernelspec": {
   "display_name": "Python 3.10.2 64-bit",
   "language": "python",
   "name": "python3"
  },
  "language_info": {
   "codemirror_mode": {
    "name": "ipython",
    "version": 3
   },
   "file_extension": ".py",
   "mimetype": "text/x-python",
   "name": "python",
   "nbconvert_exporter": "python",
   "pygments_lexer": "ipython3",
   "version": "3.10.2"
  },
  "orig_nbformat": 4
 },
 "nbformat": 4,
 "nbformat_minor": 2
}
