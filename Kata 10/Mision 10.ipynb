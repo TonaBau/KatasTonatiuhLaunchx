{
 "cells": [
  {
   "cell_type": "markdown",
   "metadata": {},
   "source": [
    "## Tracebacks"
   ]
  },
  {
   "cell_type": "code",
   "execution_count": 4,
   "metadata": {},
   "outputs": [
    {
     "ename": "FileNotFoundError",
     "evalue": "[Errno 2] No such file or directory: '/path/to/mars.jpg'",
     "output_type": "error",
     "traceback": [
      "\u001b[1;31m---------------------------------------------------------------------------\u001b[0m",
      "\u001b[1;31mFileNotFoundError\u001b[0m                         Traceback (most recent call last)",
      "\u001b[1;32mc:\\Users\\Tonax\\Desktop\\CursoIntroPython-main\\CursoIntroPython-main\\Katas\\Kata 10\\Mision 10.ipynb Cell 2'\u001b[0m in \u001b[0;36m<module>\u001b[1;34m\u001b[0m\n\u001b[0;32m      <a href='vscode-notebook-cell:/c%3A/Users/Tonax/Desktop/CursoIntroPython-main/CursoIntroPython-main/Katas/Kata%2010/Mision%2010.ipynb#ch0000004?line=1'>2</a>\u001b[0m     \u001b[39mopen\u001b[39m(\u001b[39m\"\u001b[39m\u001b[39m/path/to/mars.jpg\u001b[39m\u001b[39m\"\u001b[39m)\n\u001b[0;32m      <a href='vscode-notebook-cell:/c%3A/Users/Tonax/Desktop/CursoIntroPython-main/CursoIntroPython-main/Katas/Kata%2010/Mision%2010.ipynb#ch0000004?line=3'>4</a>\u001b[0m \u001b[39mif\u001b[39;00m \u001b[39m__name__\u001b[39m \u001b[39m==\u001b[39m \u001b[39m'\u001b[39m\u001b[39m__main__\u001b[39m\u001b[39m'\u001b[39m:\n\u001b[1;32m----> <a href='vscode-notebook-cell:/c%3A/Users/Tonax/Desktop/CursoIntroPython-main/CursoIntroPython-main/Katas/Kata%2010/Mision%2010.ipynb#ch0000004?line=4'>5</a>\u001b[0m     main()\n",
      "\u001b[1;32mc:\\Users\\Tonax\\Desktop\\CursoIntroPython-main\\CursoIntroPython-main\\Katas\\Kata 10\\Mision 10.ipynb Cell 2'\u001b[0m in \u001b[0;36mmain\u001b[1;34m()\u001b[0m\n\u001b[0;32m      <a href='vscode-notebook-cell:/c%3A/Users/Tonax/Desktop/CursoIntroPython-main/CursoIntroPython-main/Katas/Kata%2010/Mision%2010.ipynb#ch0000004?line=0'>1</a>\u001b[0m \u001b[39mdef\u001b[39;00m \u001b[39mmain\u001b[39m():\n\u001b[1;32m----> <a href='vscode-notebook-cell:/c%3A/Users/Tonax/Desktop/CursoIntroPython-main/CursoIntroPython-main/Katas/Kata%2010/Mision%2010.ipynb#ch0000004?line=1'>2</a>\u001b[0m     \u001b[39mopen\u001b[39;49m(\u001b[39m\"\u001b[39;49m\u001b[39m/path/to/mars.jpg\u001b[39;49m\u001b[39m\"\u001b[39;49m)\n",
      "\u001b[1;31mFileNotFoundError\u001b[0m: [Errno 2] No such file or directory: '/path/to/mars.jpg'"
     ]
    }
   ],
   "source": [
    "def main():\n",
    "    open(\"/path/to/mars.jpg\")\n",
    "\n",
    "if __name__ == '__main__':\n",
    "    main()\n"
   ]
  },
  {
   "cell_type": "code",
   "execution_count": null,
   "metadata": {},
   "outputs": [
    {
     "ename": "PermissionError",
     "evalue": "[Errno 13] Permission denied: 'config.txt.'",
     "output_type": "error",
     "traceback": [
      "\u001b[1;31m---------------------------------------------------------------------------\u001b[0m",
      "\u001b[1;31mPermissionError\u001b[0m                           Traceback (most recent call last)",
      "\u001b[1;32mc:\\Users\\Tonax\\Desktop\\CursoIntroPython-main\\CursoIntroPython-main\\Katas\\Kata 10\\Mision 10.ipynb Cell 2'\u001b[0m in \u001b[0;36m<module>\u001b[1;34m\u001b[0m\n\u001b[0;32m      <a href='vscode-notebook-cell:/c%3A/Users/Tonax/Desktop/CursoIntroPython-main/CursoIntroPython-main/Katas/Kata%2010/Mision%2010.ipynb#ch0000001?line=6'>7</a>\u001b[0m           \u001b[39mprint\u001b[39m(\u001b[39m\"\u001b[39m\u001b[39m¡Se encontro config.txt, pero es un directorio, no se puede leer\u001b[39m\u001b[39m\"\u001b[39m)\n\u001b[0;32m      <a href='vscode-notebook-cell:/c%3A/Users/Tonax/Desktop/CursoIntroPython-main/CursoIntroPython-main/Katas/Kata%2010/Mision%2010.ipynb#ch0000001?line=7'>8</a>\u001b[0m \u001b[39mif\u001b[39;00m \u001b[39m__name__\u001b[39m \u001b[39m==\u001b[39m \u001b[39m'\u001b[39m\u001b[39m__main__\u001b[39m\u001b[39m'\u001b[39m:\n\u001b[1;32m----> <a href='vscode-notebook-cell:/c%3A/Users/Tonax/Desktop/CursoIntroPython-main/CursoIntroPython-main/Katas/Kata%2010/Mision%2010.ipynb#ch0000001?line=8'>9</a>\u001b[0m     main()\n",
      "\u001b[1;32mc:\\Users\\Tonax\\Desktop\\CursoIntroPython-main\\CursoIntroPython-main\\Katas\\Kata 10\\Mision 10.ipynb Cell 2'\u001b[0m in \u001b[0;36mmain\u001b[1;34m()\u001b[0m\n\u001b[0;32m      <a href='vscode-notebook-cell:/c%3A/Users/Tonax/Desktop/CursoIntroPython-main/CursoIntroPython-main/Katas/Kata%2010/Mision%2010.ipynb#ch0000001?line=0'>1</a>\u001b[0m \u001b[39mdef\u001b[39;00m \u001b[39mmain\u001b[39m():\n\u001b[0;32m      <a href='vscode-notebook-cell:/c%3A/Users/Tonax/Desktop/CursoIntroPython-main/CursoIntroPython-main/Katas/Kata%2010/Mision%2010.ipynb#ch0000001?line=1'>2</a>\u001b[0m    \u001b[39mtry\u001b[39;00m:\n\u001b[1;32m----> <a href='vscode-notebook-cell:/c%3A/Users/Tonax/Desktop/CursoIntroPython-main/CursoIntroPython-main/Katas/Kata%2010/Mision%2010.ipynb#ch0000001?line=2'>3</a>\u001b[0m         configuration \u001b[39m=\u001b[39m \u001b[39mopen\u001b[39;49m(\u001b[39m'\u001b[39;49m\u001b[39mconfig.txt.\u001b[39;49m\u001b[39m'\u001b[39;49m)\n\u001b[0;32m      <a href='vscode-notebook-cell:/c%3A/Users/Tonax/Desktop/CursoIntroPython-main/CursoIntroPython-main/Katas/Kata%2010/Mision%2010.ipynb#ch0000001?line=3'>4</a>\u001b[0m    \u001b[39mexcept\u001b[39;00m \u001b[39mFileNotFoundError\u001b[39;00m:\n\u001b[0;32m      <a href='vscode-notebook-cell:/c%3A/Users/Tonax/Desktop/CursoIntroPython-main/CursoIntroPython-main/Katas/Kata%2010/Mision%2010.ipynb#ch0000001?line=4'>5</a>\u001b[0m         \u001b[39mprint\u001b[39m(\u001b[39m\"\u001b[39m\u001b[39m¡No se pudo localizar el archivo config.txt!\u001b[39m\u001b[39m\"\u001b[39m)\n",
      "\u001b[1;31mPermissionError\u001b[0m: [Errno 13] Permission denied: 'config.txt.'"
     ]
    }
   ],
   "source": [
    "def main():\n",
    "   try:\n",
    "        configuration = open('config.txt.')\n",
    "   except FileNotFoundError:\n",
    "        print(\"¡No se pudo localizar el archivo config.txt!\")\n",
    "   except IsADirectoryError:\n",
    "          print(\"¡Se encontro config.txt, pero es un directorio, no se puede leer\")\n",
    "if __name__ == '__main__':\n",
    "    main()"
   ]
  },
  {
   "cell_type": "markdown",
   "metadata": {},
   "source": [
    "## Excepciones"
   ]
  },
  {
   "cell_type": "code",
   "execution_count": 9,
   "metadata": {},
   "outputs": [],
   "source": [
    "def agua_res(astronautas, agua_res, dias_res):\n",
    "    usodiario = astronautas * 11\n",
    "    usototal = usodiario * dias_res\n",
    "    aguadereservatotal = agua_res - usototal\n",
    "    if aguadereservatotal < 0:\n",
    "        raise RuntimeError(f\"¡No hay suficiente agua para los {astronautas} astronautas despues de {dias_res} dias!\")\n",
    "    return f\"Agua total despues de {dias_res} dias es: {aguadereservatotal} litros\""
   ]
  },
  {
   "cell_type": "code",
   "execution_count": 10,
   "metadata": {},
   "outputs": [
    {
     "ename": "RuntimeError",
     "evalue": "¡No hay suficiente agua para los 5 astronautas despues de 2 dias!",
     "output_type": "error",
     "traceback": [
      "\u001b[1;31m---------------------------------------------------------------------------\u001b[0m",
      "\u001b[1;31mRuntimeError\u001b[0m                              Traceback (most recent call last)",
      "\u001b[1;32mc:\\Users\\Tonax\\Desktop\\CursoIntroPython-main\\CursoIntroPython-main\\Katas\\Kata 10\\Mision 10.ipynb Cell 6'\u001b[0m in \u001b[0;36m<module>\u001b[1;34m\u001b[0m\n\u001b[1;32m----> <a href='vscode-notebook-cell:/c%3A/Users/Tonax/Desktop/CursoIntroPython-main/CursoIntroPython-main/Katas/Kata%2010/Mision%2010.ipynb#ch0000006?line=0'>1</a>\u001b[0m agua_res(\u001b[39m5\u001b[39;49m,\u001b[39m100\u001b[39;49m,\u001b[39m2\u001b[39;49m)\n",
      "\u001b[1;32mc:\\Users\\Tonax\\Desktop\\CursoIntroPython-main\\CursoIntroPython-main\\Katas\\Kata 10\\Mision 10.ipynb Cell 5'\u001b[0m in \u001b[0;36magua_res\u001b[1;34m(astronautas, agua_res, dias_res)\u001b[0m\n\u001b[0;32m      <a href='vscode-notebook-cell:/c%3A/Users/Tonax/Desktop/CursoIntroPython-main/CursoIntroPython-main/Katas/Kata%2010/Mision%2010.ipynb#ch0000005?line=3'>4</a>\u001b[0m aguadereservatotal \u001b[39m=\u001b[39m agua_res \u001b[39m-\u001b[39m usototal\n\u001b[0;32m      <a href='vscode-notebook-cell:/c%3A/Users/Tonax/Desktop/CursoIntroPython-main/CursoIntroPython-main/Katas/Kata%2010/Mision%2010.ipynb#ch0000005?line=4'>5</a>\u001b[0m \u001b[39mif\u001b[39;00m aguadereservatotal \u001b[39m<\u001b[39m \u001b[39m0\u001b[39m:\n\u001b[1;32m----> <a href='vscode-notebook-cell:/c%3A/Users/Tonax/Desktop/CursoIntroPython-main/CursoIntroPython-main/Katas/Kata%2010/Mision%2010.ipynb#ch0000005?line=5'>6</a>\u001b[0m     \u001b[39mraise\u001b[39;00m \u001b[39mRuntimeError\u001b[39;00m(\u001b[39mf\u001b[39m\u001b[39m\"\u001b[39m\u001b[39m¡No hay suficiente agua para los \u001b[39m\u001b[39m{\u001b[39;00mastronautas\u001b[39m}\u001b[39;00m\u001b[39m astronautas despues de \u001b[39m\u001b[39m{\u001b[39;00mdias_res\u001b[39m}\u001b[39;00m\u001b[39m dias!\u001b[39m\u001b[39m\"\u001b[39m)\n\u001b[0;32m      <a href='vscode-notebook-cell:/c%3A/Users/Tonax/Desktop/CursoIntroPython-main/CursoIntroPython-main/Katas/Kata%2010/Mision%2010.ipynb#ch0000005?line=6'>7</a>\u001b[0m \u001b[39mreturn\u001b[39;00m \u001b[39mf\u001b[39m\u001b[39m\"\u001b[39m\u001b[39mAgua total despues de \u001b[39m\u001b[39m{\u001b[39;00mdias_res\u001b[39m}\u001b[39;00m\u001b[39m dias es: \u001b[39m\u001b[39m{\u001b[39;00maguadereservatotal\u001b[39m}\u001b[39;00m\u001b[39m litros\u001b[39m\u001b[39m\"\u001b[39m\n",
      "\u001b[1;31mRuntimeError\u001b[0m: ¡No hay suficiente agua para los 5 astronautas despues de 2 dias!"
     ]
    }
   ],
   "source": [
    "agua_res(5,100,2)"
   ]
  },
  {
   "cell_type": "code",
   "execution_count": 12,
   "metadata": {},
   "outputs": [
    {
     "ename": "TypeError",
     "evalue": "can't multiply sequence by non-int of type 'str'",
     "output_type": "error",
     "traceback": [
      "\u001b[1;31m---------------------------------------------------------------------------\u001b[0m",
      "\u001b[1;31mTypeError\u001b[0m                                 Traceback (most recent call last)",
      "\u001b[1;32mc:\\Users\\Tonax\\Desktop\\CursoIntroPython-main\\CursoIntroPython-main\\Katas\\Kata 10\\Mision 10.ipynb Cell 7'\u001b[0m in \u001b[0;36m<module>\u001b[1;34m\u001b[0m\n\u001b[1;32m----> <a href='vscode-notebook-cell:/c%3A/Users/Tonax/Desktop/CursoIntroPython-main/CursoIntroPython-main/Katas/Kata%2010/Mision%2010.ipynb#ch0000008?line=0'>1</a>\u001b[0m agua_res(\u001b[39m\"\u001b[39;49m\u001b[39m3\u001b[39;49m\u001b[39m\"\u001b[39;49m,\u001b[39m\"\u001b[39;49m\u001b[39m200\u001b[39;49m\u001b[39m\"\u001b[39;49m,\u001b[39m\"\u001b[39;49m\u001b[39mnone\u001b[39;49m\u001b[39m\"\u001b[39;49m)\n",
      "\u001b[1;32mc:\\Users\\Tonax\\Desktop\\CursoIntroPython-main\\CursoIntroPython-main\\Katas\\Kata 10\\Mision 10.ipynb Cell 5'\u001b[0m in \u001b[0;36magua_res\u001b[1;34m(astronautas, agua_res, dias_res)\u001b[0m\n\u001b[0;32m      <a href='vscode-notebook-cell:/c%3A/Users/Tonax/Desktop/CursoIntroPython-main/CursoIntroPython-main/Katas/Kata%2010/Mision%2010.ipynb#ch0000005?line=0'>1</a>\u001b[0m \u001b[39mdef\u001b[39;00m \u001b[39magua_res\u001b[39m(astronautas, agua_res, dias_res):\n\u001b[0;32m      <a href='vscode-notebook-cell:/c%3A/Users/Tonax/Desktop/CursoIntroPython-main/CursoIntroPython-main/Katas/Kata%2010/Mision%2010.ipynb#ch0000005?line=1'>2</a>\u001b[0m     usodiario \u001b[39m=\u001b[39m astronautas \u001b[39m*\u001b[39m \u001b[39m11\u001b[39m\n\u001b[1;32m----> <a href='vscode-notebook-cell:/c%3A/Users/Tonax/Desktop/CursoIntroPython-main/CursoIntroPython-main/Katas/Kata%2010/Mision%2010.ipynb#ch0000005?line=2'>3</a>\u001b[0m     usototal \u001b[39m=\u001b[39m usodiario \u001b[39m*\u001b[39;49m dias_res\n\u001b[0;32m      <a href='vscode-notebook-cell:/c%3A/Users/Tonax/Desktop/CursoIntroPython-main/CursoIntroPython-main/Katas/Kata%2010/Mision%2010.ipynb#ch0000005?line=3'>4</a>\u001b[0m     aguadereservatotal \u001b[39m=\u001b[39m agua_res \u001b[39m-\u001b[39m usototal\n\u001b[0;32m      <a href='vscode-notebook-cell:/c%3A/Users/Tonax/Desktop/CursoIntroPython-main/CursoIntroPython-main/Katas/Kata%2010/Mision%2010.ipynb#ch0000005?line=4'>5</a>\u001b[0m     \u001b[39mif\u001b[39;00m aguadereservatotal \u001b[39m<\u001b[39m \u001b[39m0\u001b[39m:\n",
      "\u001b[1;31mTypeError\u001b[0m: can't multiply sequence by non-int of type 'str'"
     ]
    }
   ],
   "source": [
    "agua_res(\"3\",\"200\",\"none\")"
   ]
  },
  {
   "cell_type": "code",
   "execution_count": 13,
   "metadata": {},
   "outputs": [],
   "source": [
    "def agua_res(astronautas, agua_res, dias_res):\n",
    "    for argumento in [astronautas, agua_res, dias_res]:\n",
    "        try:\n",
    "            argumento / 10\n",
    "        except TypeError:\n",
    "            raise TypeError(f\"Todos los datos deben ponerse en enteros, pero se recibio: '{argumento}'\")\n",
    "    usodiario = astronautas * 11\n",
    "    usototal = usodiario * dias_res\n",
    "    aguadereservatotal = agua_res - usototal\n",
    "    if aguadereservatotal < 0:\n",
    "        raise RuntimeError(f\"¡No hay suficiente agua para los {astronautas} astronautas despues de {dias_res} dias!\")\n",
    "    return f\"Agua total despues de {dias_res} dias es: {aguadereservatotal} litros\""
   ]
  },
  {
   "cell_type": "code",
   "execution_count": 14,
   "metadata": {},
   "outputs": [
    {
     "ename": "TypeError",
     "evalue": "Todos los datos deben ponerse en enteros, pero se recibio: '3'",
     "output_type": "error",
     "traceback": [
      "\u001b[1;31m---------------------------------------------------------------------------\u001b[0m",
      "\u001b[1;31mTypeError\u001b[0m                                 Traceback (most recent call last)",
      "\u001b[1;32mc:\\Users\\Tonax\\Desktop\\CursoIntroPython-main\\CursoIntroPython-main\\Katas\\Kata 10\\Mision 10.ipynb Cell 8'\u001b[0m in \u001b[0;36magua_res\u001b[1;34m(astronautas, agua_res, dias_res)\u001b[0m\n\u001b[0;32m      <a href='vscode-notebook-cell:/c%3A/Users/Tonax/Desktop/CursoIntroPython-main/CursoIntroPython-main/Katas/Kata%2010/Mision%2010.ipynb#ch0000011?line=2'>3</a>\u001b[0m \u001b[39mtry\u001b[39;00m:\n\u001b[1;32m----> <a href='vscode-notebook-cell:/c%3A/Users/Tonax/Desktop/CursoIntroPython-main/CursoIntroPython-main/Katas/Kata%2010/Mision%2010.ipynb#ch0000011?line=3'>4</a>\u001b[0m     argumento \u001b[39m/\u001b[39;49m \u001b[39m10\u001b[39;49m\n\u001b[0;32m      <a href='vscode-notebook-cell:/c%3A/Users/Tonax/Desktop/CursoIntroPython-main/CursoIntroPython-main/Katas/Kata%2010/Mision%2010.ipynb#ch0000011?line=4'>5</a>\u001b[0m \u001b[39mexcept\u001b[39;00m \u001b[39mTypeError\u001b[39;00m:\n",
      "\u001b[1;31mTypeError\u001b[0m: unsupported operand type(s) for /: 'str' and 'int'",
      "\nDuring handling of the above exception, another exception occurred:\n",
      "\u001b[1;31mTypeError\u001b[0m                                 Traceback (most recent call last)",
      "\u001b[1;32mc:\\Users\\Tonax\\Desktop\\CursoIntroPython-main\\CursoIntroPython-main\\Katas\\Kata 10\\Mision 10.ipynb Cell 9'\u001b[0m in \u001b[0;36m<module>\u001b[1;34m\u001b[0m\n\u001b[1;32m----> <a href='vscode-notebook-cell:/c%3A/Users/Tonax/Desktop/CursoIntroPython-main/CursoIntroPython-main/Katas/Kata%2010/Mision%2010.ipynb#ch0000012?line=0'>1</a>\u001b[0m agua_res(\u001b[39m\"\u001b[39;49m\u001b[39m3\u001b[39;49m\u001b[39m\"\u001b[39;49m,\u001b[39m\"\u001b[39;49m\u001b[39m200\u001b[39;49m\u001b[39m\"\u001b[39;49m,\u001b[39m\"\u001b[39;49m\u001b[39mNone\u001b[39;49m\u001b[39m\"\u001b[39;49m)\n",
      "\u001b[1;32mc:\\Users\\Tonax\\Desktop\\CursoIntroPython-main\\CursoIntroPython-main\\Katas\\Kata 10\\Mision 10.ipynb Cell 8'\u001b[0m in \u001b[0;36magua_res\u001b[1;34m(astronautas, agua_res, dias_res)\u001b[0m\n\u001b[0;32m      <a href='vscode-notebook-cell:/c%3A/Users/Tonax/Desktop/CursoIntroPython-main/CursoIntroPython-main/Katas/Kata%2010/Mision%2010.ipynb#ch0000011?line=3'>4</a>\u001b[0m         argumento \u001b[39m/\u001b[39m \u001b[39m10\u001b[39m\n\u001b[0;32m      <a href='vscode-notebook-cell:/c%3A/Users/Tonax/Desktop/CursoIntroPython-main/CursoIntroPython-main/Katas/Kata%2010/Mision%2010.ipynb#ch0000011?line=4'>5</a>\u001b[0m     \u001b[39mexcept\u001b[39;00m \u001b[39mTypeError\u001b[39;00m:\n\u001b[1;32m----> <a href='vscode-notebook-cell:/c%3A/Users/Tonax/Desktop/CursoIntroPython-main/CursoIntroPython-main/Katas/Kata%2010/Mision%2010.ipynb#ch0000011?line=5'>6</a>\u001b[0m         \u001b[39mraise\u001b[39;00m \u001b[39mTypeError\u001b[39;00m(\u001b[39mf\u001b[39m\u001b[39m\"\u001b[39m\u001b[39mTodos los datos deben ponerse en enteros, pero se recibio: \u001b[39m\u001b[39m'\u001b[39m\u001b[39m{\u001b[39;00margumento\u001b[39m}\u001b[39;00m\u001b[39m'\u001b[39m\u001b[39m\"\u001b[39m)\n\u001b[0;32m      <a href='vscode-notebook-cell:/c%3A/Users/Tonax/Desktop/CursoIntroPython-main/CursoIntroPython-main/Katas/Kata%2010/Mision%2010.ipynb#ch0000011?line=6'>7</a>\u001b[0m usodiario \u001b[39m=\u001b[39m astronautas \u001b[39m*\u001b[39m \u001b[39m11\u001b[39m\n\u001b[0;32m      <a href='vscode-notebook-cell:/c%3A/Users/Tonax/Desktop/CursoIntroPython-main/CursoIntroPython-main/Katas/Kata%2010/Mision%2010.ipynb#ch0000011?line=7'>8</a>\u001b[0m usototal \u001b[39m=\u001b[39m usodiario \u001b[39m*\u001b[39m dias_res\n",
      "\u001b[1;31mTypeError\u001b[0m: Todos los datos deben ponerse en enteros, pero se recibio: '3'"
     ]
    }
   ],
   "source": [
    "agua_res(\"3\",\"200\",\"None\")"
   ]
  }
 ],
 "metadata": {
  "interpreter": {
   "hash": "9bee8665a2f736ee51814cc55ddf8769681e008d8300a9f6e296f02dd94d1e1e"
  },
  "kernelspec": {
   "display_name": "Python 3.10.2 64-bit (windows store)",
   "language": "python",
   "name": "python3"
  },
  "language_info": {
   "codemirror_mode": {
    "name": "ipython",
    "version": 3
   },
   "file_extension": ".py",
   "mimetype": "text/x-python",
   "name": "python",
   "nbconvert_exporter": "python",
   "pygments_lexer": "ipython3",
   "version": "3.10.2"
  },
  "orig_nbformat": 4
 },
 "nbformat": 4,
 "nbformat_minor": 2
}
